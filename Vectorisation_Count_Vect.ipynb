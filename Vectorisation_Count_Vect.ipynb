{
 "cells": [
  {
   "cell_type": "markdown",
   "metadata": {},
   "source": [
    "#### Visualisation de la méthode de vectorisation utilisé dans le mémoire :"
   ]
  },
  {
   "cell_type": "markdown",
   "metadata": {},
   "source": [
    "Nous utilisons la fonction `CountVectorizer` de `Sklearn`. "
   ]
  },
  {
   "cell_type": "code",
   "execution_count": 6,
   "metadata": {},
   "outputs": [],
   "source": [
    "\n",
    "from sklearn.feature_extraction.text import CountVectorizer\n"
   ]
  },
  {
   "cell_type": "markdown",
   "metadata": {},
   "source": [
    "Nous allons appliquer la vectorisation sur un ensemble de 4 commentaires (les mêmes que dans l'article). Cette ensemble correspond à $\\Omega$."
   ]
  },
  {
   "cell_type": "code",
   "execution_count": 7,
   "metadata": {},
   "outputs": [],
   "source": [
    "liste = [\"I like this phone !\", \"It is good place, i like !\", \"  Good ! ! I really love this movie.\",\"  I had a good time, I like this place\" ]"
   ]
  },
  {
   "cell_type": "code",
   "execution_count": 8,
   "metadata": {},
   "outputs": [
    {
     "name": "stdout",
     "output_type": "stream",
     "text": [
      "['I like this phone !', 'It is good place, i like !', '  Good ! ! I really love this movie.', '  I had a good time, I like this place']\n",
      "4\n"
     ]
    }
   ],
   "source": [
    "print(liste)\n",
    "print(\"L'ensemble est formé de \",len(liste) ,\" commentaires.\")"
   ]
  },
  {
   "cell_type": "markdown",
   "metadata": {},
   "source": [
    "\n",
    "Dans un premier dans la machine crée le dictionnaire local $\\mathscr{D}. C'est à dire répertorie tous les mots de l'ensemble. \n",
    "La fonction `CountVectorizer` supprime à ce moment là les mots vides c'est à dire les mots qui reviennent constamment dans le langage courant et donc inutile à la prise de décision.\n",
    "\n",
    "Visualisons dans un premier dans le dictionnaire local.\n",
    "\n"
   ]
  },
  {
   "cell_type": "code",
   "execution_count": 18,
   "metadata": {},
   "outputs": [
    {
     "name": "stdout",
     "output_type": "stream",
     "text": [
      "Le dictionnaire local est ['good', 'had', 'is', 'it', 'like', 'love', 'movie', 'phone', 'place', 'really', 'this', 'time']\n",
      "Il est composé de  12 mots.\n"
     ]
    }
   ],
   "source": [
    "vectorizer = CountVectorizer()\n",
    "tf = vectorizer.fit_transform(liste)\n",
    "print(\"Le dictionnaire local est\" , sorted(vectorizer.vocabulary_))\n",
    "print(\"Il est composé de \", len(sorted(vectorizer.vocabulary_)), \"mots.\")"
   ]
  },
  {
   "cell_type": "markdown",
   "metadata": {},
   "source": [
    "La machine stocke les mots en utilisant des identifiants. Regardons les identifiants attribués aux mots du dictionnaire : "
   ]
  },
  {
   "cell_type": "code",
   "execution_count": 16,
   "metadata": {},
   "outputs": [
    {
     "data": {
      "text/plain": [
       "{'like': 4,\n",
       " 'this': 10,\n",
       " 'phone': 7,\n",
       " 'it': 3,\n",
       " 'is': 2,\n",
       " 'good': 0,\n",
       " 'place': 8,\n",
       " 'really': 9,\n",
       " 'love': 5,\n",
       " 'movie': 6,\n",
       " 'had': 1,\n",
       " 'time': 11}"
      ]
     },
     "execution_count": 16,
     "metadata": {},
     "output_type": "execute_result"
    }
   ],
   "source": [
    "vectorizer.vocabulary_"
   ]
  },
  {
   "cell_type": "markdown",
   "metadata": {},
   "source": [
    "`CountVectorizer` va parcourir ce dictionnaire local, et pour chaque mot, il va compter combien de fois ce mot apparaît dans $\\Omega$.\\\\\n",
    "\n",
    "Une matrice de taille :$\\; \\#\\Omega \\times \\#\\mathscr{D}$ est créée afin d'enregistrer les résultats :  \n",
    "La première colonne correspond au mot good (identifiant 0) et la dernière colonne correspond au mot \"time\" (identifiant 11).\n",
    "La première ligne correspond à la première phrase de l'ensemble $\\Omega$."
   ]
  },
  {
   "cell_type": "code",
   "execution_count": 10,
   "metadata": {},
   "outputs": [
    {
     "data": {
      "text/plain": [
       "array([[0, 0, 0, 0, 1, 0, 0, 1, 0, 0, 1, 0],\n",
       "       [1, 0, 1, 1, 1, 0, 0, 0, 1, 0, 0, 0],\n",
       "       [1, 0, 0, 0, 0, 1, 1, 0, 0, 1, 1, 0],\n",
       "       [1, 1, 0, 0, 1, 0, 0, 0, 1, 0, 1, 1]], dtype=int64)"
      ]
     },
     "execution_count": 10,
     "metadata": {},
     "output_type": "execute_result"
    }
   ],
   "source": [
    "tf.toarray()"
   ]
  }
 ],
 "metadata": {
  "kernelspec": {
   "display_name": "Python 3",
   "language": "python",
   "name": "python3"
  },
  "language_info": {
   "codemirror_mode": {
    "name": "ipython",
    "version": 3
   },
   "file_extension": ".py",
   "mimetype": "text/x-python",
   "name": "python",
   "nbconvert_exporter": "python",
   "pygments_lexer": "ipython3",
   "version": "3.8.3"
  }
 },
 "nbformat": 4,
 "nbformat_minor": 4
}
