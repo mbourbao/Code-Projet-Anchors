{
 "cells": [
  {
   "cell_type": "code",
   "execution_count": 11,
   "metadata": {},
   "outputs": [],
   "source": [
    "import numpy as np \n",
    "import pandas as pd \n",
    "from sklearn.feature_extraction.text import CountVectorizer\n",
    "from sklearn.model_selection import train_test_split\n",
    "from sklearn.linear_model import LogisticRegression\n",
    "import os\n",
    "import string \n",
    "from nltk import word_tokenize\n",
    "\n",
    "os.chdir(\"C:/Users/33651/Documents/Projet_Anchors/CODE/\")\n",
    "from selection_meilleur_ancre_DETERMINISTE import * \n",
    "\n",
    "###############PACKAGE \n",
    "import sklearn\n",
    "import sklearn.model_selection\n",
    "import sklearn.linear_model\n",
    "import sklearn.ensemble\n",
    "import spacy\n",
    "import sys\n"
   ]
  },
  {
   "cell_type": "code",
   "execution_count": 2,
   "metadata": {},
   "outputs": [
    {
     "name": "stdout",
     "output_type": "stream",
     "text": [
      "Val accuracy 0.8\n"
     ]
    }
   ],
   "source": [
    "from chargement_donnée import*"
   ]
  },
  {
   "cell_type": "code",
   "execution_count": null,
   "metadata": {},
   "outputs": [],
   "source": [
    "def predict_lr(texts):\n",
    "    return c.predict(vectorizer.transform(texts))"
   ]
  },
  {
   "cell_type": "markdown",
   "metadata": {},
   "source": [
    "### Exemple d'application de la méthode sur plusieurs commentaires (positifs ou négatifs). \n",
    "#### Comparaison des résultats de la nouvelle implémentation avec les résultats du package. "
   ]
  },
  {
   "cell_type": "markdown",
   "metadata": {},
   "source": [
    "Dans l'exemple, nous allons chercher à expliquer les phrases :"
   ]
  },
  {
   "cell_type": "code",
   "execution_count": 12,
   "metadata": {},
   "outputs": [],
   "source": [
    " phrases = [\"But I thought his acting was skilled. \",\"  All of the main players are mesmerising. \",\"  The Jamaican mojitos are delicious. \",\"  Great food and service, huge portions and they give a military discount. \",\"  I like this restaurant ; Will be back again !. \",\"  Penne back vodka excellent ! \",\" I LOVED their mussels cooked \",\"  My 8/10 score is mostly for the plot. \",\"  Everything was fresh and delicious ! \",\"  My first visit to Hiro was a delight ! \",\"  definitely will come back here again.. \",\"  2 times - Very Bad Customer Service ! \",\"  They have horrible attitudes \",\"  It was not good. \",\"  This place is way too overpriced for mediocre food. \",\"  Won’t ever go here again. \",\"  Dont waste your money... \",\"  Buyer–Be Very Careful ! ! ! ! !. \",\"  Really horrible, cold meal and rude waiter \"]"
   ]
  },
  {
   "cell_type": "code",
   "execution_count": 13,
   "metadata": {},
   "outputs": [
    {
     "name": "stdout",
     "output_type": "stream",
     "text": [
      "Il y a 19 phrases à expliquer.\n"
     ]
    }
   ],
   "source": [
    "print(\"Il y a\", len(phrases), \"phrases à expliquer.\")"
   ]
  },
  {
   "cell_type": "code",
   "execution_count": 16,
   "metadata": {},
   "outputs": [
    {
     "name": "stdout",
     "output_type": "stream",
     "text": [
      "La phrase qu'on va expliquer est But I thought his acting was skilled. \n",
      "La phrase transmet un sentiment positif.\n",
      "\n",
      "L'ancre obtenue avec le package est :  ['his', 'skilled']  avec une précision de :  1.0\n",
      "L'ancre obtenue avec mon implémentation est :  ['his', 'skilled']  avec une précision de :  1.0\n",
      "La phrase qu'on va expliquer est   All of the main players are mesmerising. \n",
      "La phrase transmet un sentiment positif.\n",
      "\n",
      "L'ancre obtenue avec le package est :  ['players', 'mesmerising']  avec une précision de :  1.0\n",
      "L'ancre obtenue avec mon implémentation est :  ['players', 'mesmerising']  avec une précision de :  1.0\n",
      "La phrase qu'on va expliquer est   The Jamaican mojitos are delicious. \n",
      "La phrase transmet un sentiment positif.\n",
      "\n",
      "L'ancre obtenue avec le package est :  ['delicious']  avec une précision de :  1.0\n",
      "L'ancre obtenue avec mon implémentation est :  ['delicious']  avec une précision de :  1.0\n",
      "La phrase qu'on va expliquer est   Great food and service, huge portions and they give a military discount. \n",
      "La phrase transmet un sentiment positif.\n",
      "\n",
      "L'ancre obtenue avec le package est :  ['Great']  avec une précision de :  1.0\n",
      "L'ancre obtenue avec mon implémentation est :  ['great']  avec une précision de :  1.0\n",
      "La phrase qu'on va expliquer est   I like this restaurant ; Will be back again !. \n",
      "La phrase transmet un sentiment positif.\n",
      "\n",
      "L'ancre obtenue avec le package est :  ['restaurant']  avec une précision de :  1.0\n",
      "L'ancre obtenue avec mon implémentation est :  ['restaurant']  avec une précision de :  1.0\n",
      "La phrase qu'on va expliquer est   Penne back vodka excellent ! \n",
      "La phrase transmet un sentiment positif.\n",
      "\n",
      "L'ancre obtenue avec le package est :  ['excellent']  avec une précision de :  1.0\n",
      "L'ancre obtenue avec mon implémentation est :  ['excellent']  avec une précision de :  1.0\n",
      "La phrase qu'on va expliquer est  I LOVED their mussels cooked \n",
      "La phrase transmet un sentiment positif.\n",
      "\n",
      "L'ancre obtenue avec le package est :  ['cooked']  avec une précision de :  1.0\n",
      "L'ancre obtenue avec mon implémentation est :  ['cooked']  avec une précision de :  1.0\n",
      "La phrase qu'on va expliquer est   My 8/10 score is mostly for the plot. \n",
      "La phrase transmet un sentiment positif.\n",
      "\n",
      "L'ancre obtenue avec le package est :  ['8/10', 'mostly']  avec une précision de :  1.0\n",
      "L'ancre obtenue avec mon implémentation est :  ['8/10', 'mostly']  avec une précision de :  1.0\n",
      "La phrase qu'on va expliquer est   Everything was fresh and delicious ! \n",
      "La phrase transmet un sentiment positif.\n",
      "\n",
      "L'ancre obtenue avec le package est :  ['delicious']  avec une précision de :  1.0\n",
      "L'ancre obtenue avec mon implémentation est :  ['delicious']  avec une précision de :  1.0\n",
      "La phrase qu'on va expliquer est   My first visit to Hiro was a delight ! \n",
      "La phrase transmet un sentiment positif.\n",
      "\n",
      "L'ancre obtenue avec le package est :  ['delight']  avec une précision de :  0.9919354838709677\n",
      "L'ancre obtenue avec mon implémentation est :  ['delight']  avec une précision de :  0.9840637450199203\n",
      "La phrase qu'on va expliquer est   definitely will come back here again.. \n",
      "La phrase transmet un sentiment positif.\n",
      "\n",
      "L'ancre obtenue avec le package est :  ['definitely', 'will']  avec une précision de :  1.0\n",
      "L'ancre obtenue avec mon implémentation est :  ['definitely', 'will']  avec une précision de :  1.0\n",
      "La phrase qu'on va expliquer est   2 times - Very Bad Customer Service ! \n",
      "La phrase transmet un sentiment négatif.\n",
      "\n",
      "L'ancre obtenue avec le package est :  ['Customer']  avec une précision de :  1.0\n",
      "L'ancre obtenue avec mon implémentation est :  ['customer']  avec une précision de :  1.0\n",
      "La phrase qu'on va expliquer est   They have horrible attitudes \n",
      "La phrase transmet un sentiment négatif.\n",
      "\n",
      "L'ancre obtenue avec le package est :  ['horrible']  avec une précision de :  1.0\n",
      "L'ancre obtenue avec mon implémentation est :  ['horrible']  avec une précision de :  1.0\n",
      "La phrase qu'on va expliquer est   It was not good. \n",
      "La phrase transmet un sentiment négatif.\n",
      "\n",
      "L'ancre obtenue avec le package est :  ['not']  avec une précision de :  1.0\n",
      "L'ancre obtenue avec mon implémentation est :  ['not']  avec une précision de :  1.0\n",
      "La phrase qu'on va expliquer est   This place is way too overpriced for mediocre food. \n",
      "La phrase transmet un sentiment négatif.\n",
      "\n",
      "L'ancre obtenue avec le package est :  ['food']  avec une précision de :  1.0\n",
      "L'ancre obtenue avec mon implémentation est :  ['food']  avec une précision de :  1.0\n",
      "La phrase qu'on va expliquer est   Won’t ever go here again. \n",
      "La phrase transmet un sentiment négatif.\n",
      "\n",
      "L'ancre obtenue avec le package est :  ['ever', 'again']  avec une précision de :  1.0\n",
      "L'ancre obtenue avec mon implémentation est :  ['ever', 'again']  avec une précision de :  1.0\n",
      "La phrase qu'on va expliquer est   Dont waste your money... \n",
      "La phrase transmet un sentiment négatif.\n",
      "\n",
      "L'ancre obtenue avec le package est :  ['...']  avec une précision de :  1.0\n",
      "L'ancre obtenue avec mon implémentation est :  ['...']  avec une précision de :  1.0\n",
      "La phrase qu'on va expliquer est   Buyer–Be Very Careful ! ! ! ! !. \n",
      "La phrase transmet un sentiment négatif.\n",
      "\n",
      "L'ancre obtenue avec le package est :  ['Buyer', 'Careful', 'Be']  avec une précision de :  1.0\n",
      "L'ancre obtenue avec mon implémentation est :  ['buyer–be', 'careful']  avec une précision de :  1.0\n",
      "La phrase qu'on va expliquer est   Really horrible, cold meal and rude waiter \n",
      "La phrase transmet un sentiment négatif.\n",
      "\n",
      "L'ancre obtenue avec le package est :  ['rude']  avec une précision de :  1.0\n",
      "L'ancre obtenue avec mon implémentation est :  ['rude']  avec une précision de :  1.0\n"
     ]
    }
   ],
   "source": [
    "## Décision prise par la boite noire pour l'instance 'text'\n",
    "def predict_lr(texts):\n",
    "    return c.predict(vectorizer.transform(texts))\n",
    "\n",
    "nlp = spacy.load('en_core_web_sm')\n",
    "explainer = anchor_text.AnchorText(nlp, ['negative', 'positive'], use_unk_distribution=True)\n",
    "\n",
    "for i in phrases:\n",
    "        print(\"La phrase qu'on va expliquer est\" , i )\n",
    "        label = predict_lr([i])[0]\n",
    "        if label == 1 : \n",
    "            print(\"La phrase transmet un sentiment positif.\")\n",
    "        else : \n",
    "            print(\"La phrase transmet un sentiment négatif.\")\n",
    "        \n",
    "        \n",
    "        moi = meilleur_ancre_bis_new(df,i,250,\"UNK\",label,0.15,vectorizer,c)\n",
    "        moi_nom = moi[0]\n",
    "        moi_prec = moi[1]\n",
    "        \n",
    "        exp3 = explainer.explain_instance(i, predict_lr, threshold=0.95)\n",
    "        ancre = exp3.names()\n",
    "        precis = exp3.precision()\n",
    "        \n",
    "        print()\n",
    "        print(\"L'ancre obtenue avec le package est : \", ancre, \" avec une précision de : \", precis)\n",
    "        print(\"L'ancre obtenue avec mon implémentation est : \", moi_nom , \" avec une précision de : \", moi_prec)\n",
    "        "
   ]
  },
  {
   "cell_type": "code",
   "execution_count": null,
   "metadata": {},
   "outputs": [],
   "source": []
  }
 ],
 "metadata": {
  "kernelspec": {
   "display_name": "Python 3",
   "language": "python",
   "name": "python3"
  },
  "language_info": {
   "codemirror_mode": {
    "name": "ipython",
    "version": 3
   },
   "file_extension": ".py",
   "mimetype": "text/x-python",
   "name": "python",
   "nbconvert_exporter": "python",
   "pygments_lexer": "ipython3",
   "version": "3.8.3"
  }
 },
 "nbformat": 4,
 "nbformat_minor": 4
}
