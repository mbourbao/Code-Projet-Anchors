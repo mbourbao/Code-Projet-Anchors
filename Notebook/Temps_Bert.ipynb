{
 "cells": [
  {
   "cell_type": "code",
   "execution_count": 30,
   "metadata": {},
   "outputs": [],
   "source": [
    "## BERT \n",
    "from transformers import DistilBertModel, DistilBertConfig\n",
    "import ipywidgets\n",
    "import IProgress\n",
    "from transformers import DistilBertTokenizer, DistilBertForMaskedLM\n",
    "import torch\n",
    "\n",
    "\n",
    "import numpy as np \n",
    "import pandas as pd \n",
    "from sklearn.feature_extraction.text import CountVectorizer\n",
    "from sklearn.model_selection import train_test_split\n",
    "from sklearn.linear_model import LogisticRegression\n",
    "\n",
    "import os\n",
    "import string \n",
    "\n",
    "\n",
    "from nltk import word_tokenize\n",
    "\n",
    "os.chdir(\"C:/Users/33651/Documents/Projet_Anchors/CODE/\")\n",
    "from Perturb_Bert_Plusieurs_mots import *\n",
    "from Perturb_Bert_One_mots import * \n",
    "\n",
    "from perturbation import * \n",
    "from time import *\n"
   ]
  },
  {
   "cell_type": "code",
   "execution_count": 2,
   "metadata": {},
   "outputs": [
    {
     "name": "stdout",
     "output_type": "stream",
     "text": [
      "Val accuracy 0.8\n"
     ]
    }
   ],
   "source": [
    "from chargement_donnée import * "
   ]
  },
  {
   "cell_type": "code",
   "execution_count": 3,
   "metadata": {},
   "outputs": [
    {
     "name": "stdout",
     "output_type": "stream",
     "text": [
      "Exemple perturbation 1 (un seul mot caché) : the plan has been generally good\n"
     ]
    }
   ],
   "source": [
    "t0_t = time()\n",
    "print(\"Exemple perturbation 1 (un seul mot caché) :\",gener_perturb_bert_one(\"the [MASK] has been generally good\",'The reception has been generally good',torch))\n",
    "t1_t = time()\n",
    "\n",
    "temps1 = t1_t-t0_t\n"
   ]
  },
  {
   "cell_type": "code",
   "execution_count": 4,
   "metadata": {},
   "outputs": [
    {
     "name": "stdout",
     "output_type": "stream",
     "text": [
      "Exemple perturbation 2 (un seul mot caché) : the reception have become generally good\n"
     ]
    }
   ],
   "source": [
    "t0_t2 = time()\n",
    "print(\"Exemple perturbation 2 (un seul mot caché) :\",gener_perturb_bert_one(\"the reception have [MASK] generally good\",'The reception has been generally good',torch))\n",
    "t1_t2 = time()\n",
    "\n",
    "temps2 = t1_t2-t0_t2\n",
    "    "
   ]
  },
  {
   "cell_type": "code",
   "execution_count": 5,
   "metadata": {},
   "outputs": [
    {
     "name": "stdout",
     "output_type": "stream",
     "text": [
      "Exemple perturbation 3 (un seul mot caché) : mainstream reception has been generally good\n"
     ]
    }
   ],
   "source": [
    "t0 = time()\n",
    "print(\"Exemple perturbation 3 (un seul mot caché) :\",gener_perturb_bert_one(\"[MASK] reception has been generally good\",'The reception has been generally good',torch))\n",
    "t1 = time()\n",
    "temps3= t1-t0"
   ]
  },
  {
   "cell_type": "markdown",
   "metadata": {},
   "source": [
    "### Temps écoulé pour générer une seule perturbation. (avec un seul MASK)"
   ]
  },
  {
   "cell_type": "code",
   "execution_count": 6,
   "metadata": {},
   "outputs": [
    {
     "name": "stdout",
     "output_type": "stream",
     "text": [
      "Le temps pour générer une seule perturbation est  10.79905390739441 seconde\n",
      "\n",
      "Le temps pour générer une seule perturbation est  10.181467533111572 seconde\n",
      "\n",
      "Le temps pour générer une seule perturbation est  10.931877374649048 seconde\n"
     ]
    }
   ],
   "source": [
    "print(\"Le temps pour générer une seule perturbation est \",temps1 , \"seconde\")\n",
    "print()\n",
    "print(\"Le temps pour générer une seule perturbation est \",temps2 , \"seconde\")\n",
    "print()\n",
    "print(\"Le temps pour générer une seule perturbation est \",temps3 , \"seconde\")"
   ]
  },
  {
   "cell_type": "markdown",
   "metadata": {},
   "source": [
    "#### Ici, on cache un seul mot. Pour obtenir une précision suffisante, il faut générer un nombre important de perturbations. \n",
    "#### Prenons par exemple, une distribution composée de 500 perturbations."
   ]
  },
  {
   "cell_type": "code",
   "execution_count": 7,
   "metadata": {},
   "outputs": [],
   "source": [
    "temps1_bis = 500*temps1\n",
    "temps2_bis = 500*temps2 \n",
    "temps3_bis = 500*temps3\n",
    "convert1 = strftime('%H %M %S', gmtime(temps1_bis))\n",
    "convert2 = strftime('%H %M %S', gmtime(temps2_bis))\n",
    "convert3 = strftime('%H %M %S', gmtime(temps3_bis))\n"
   ]
  },
  {
   "cell_type": "code",
   "execution_count": 51,
   "metadata": {},
   "outputs": [
    {
     "data": {
      "text/plain": [
       "'01 31 40'"
      ]
     },
     "execution_count": 51,
     "metadata": {},
     "output_type": "execute_result"
    }
   ],
   "source": [
    "500*11\n",
    "strftime('%H %M %S', gmtime(500*11))"
   ]
  },
  {
   "cell_type": "code",
   "execution_count": 17,
   "metadata": {},
   "outputs": [
    {
     "name": "stdout",
     "output_type": "stream",
     "text": [
      "Le temps écoulé pour générer une distribution de 500 perturbations est 01  h 29  min 59 s\n",
      "\n",
      "Le temps écoulé pour générer une distribution de 500 perturbations est 01  h 24  min 50 s\n",
      "\n",
      "Le temps écoulé pour générer une distribution de 500 perturbations est 01  h 31  min 50 s\n"
     ]
    }
   ],
   "source": [
    "print(\"Le temps écoulé pour générer une distribution de 500 perturbations est\" , convert1[0:3], \"h\", convert1[3:6], \"min\" , convert1[6:8],\"s\")\n",
    "print()\n",
    "print(\"Le temps écoulé pour générer une distribution de 500 perturbations est\" , convert2[0:3], \"h\", convert2[3:6], \"min\" , convert2[6:8],\"s\")\n",
    "print()\n",
    "print(\"Le temps écoulé pour générer une distribution de 500 perturbations est\" , convert3[0:3], \"h\", convert3[3:6], \"min\" , convert2[6:8],\"s\")"
   ]
  },
  {
   "cell_type": "markdown",
   "metadata": {},
   "source": [
    "##### Pour générer la distribution qui permet d'expliquer une seule phrase il faut en moyenne 1h30. (En masquant un seule mot) \n"
   ]
  },
  {
   "cell_type": "markdown",
   "metadata": {},
   "source": [
    "### Pour analyser les performances de notre implémentation, nous avons expliquer 10 phrases. \n",
    "### Regardons le temps que cela aurait prit si on avait utiliser une perturbation générative pour réaliser l'expérience"
   ]
  },
  {
   "cell_type": "code",
   "execution_count": 18,
   "metadata": {},
   "outputs": [],
   "source": [
    "convert1_bis = strftime('%H %M %S', gmtime(temps1_bis*10 ))\n",
    "\n",
    "convert2_bis = strftime('%H %M %S', gmtime(temps2_bis*10 ))\n",
    "\n",
    "convert3_bis = strftime('%H %M %S', gmtime(temps3_bis*10 ))"
   ]
  },
  {
   "cell_type": "code",
   "execution_count": 19,
   "metadata": {},
   "outputs": [
    {
     "name": "stdout",
     "output_type": "stream",
     "text": [
      "Le temps écoulé pour expliquer 10 phrases est  14  h 59  min 55 s\n",
      "\n",
      "Le temps écoulé pour expliquer 10 phrases est  14  h 08  min 27 s\n",
      "\n",
      "Le temps écoulé pour expliquer 10 phrases est  15  h 10  min 59 s\n"
     ]
    }
   ],
   "source": [
    "print(\"Le temps écoulé pour expliquer 10 phrases est \" , convert1_bis[0:3], \"h\", convert1_bis[3:6], \"min\" , convert1_bis[6:8],\"s\")\n",
    "print()\n",
    "print(\"Le temps écoulé pour expliquer 10 phrases est \" , convert2_bis[0:3], \"h\", convert2_bis[3:6], \"min\" , convert2_bis[6:8],\"s\")\n",
    "print()\n",
    "print(\"Le temps écoulé pour expliquer 10 phrases est \" , convert3_bis[0:3], \"h\", convert3_bis[3:6], \"min\" , convert3_bis[6:8],\"s\")"
   ]
  },
  {
   "cell_type": "markdown",
   "metadata": {},
   "source": [
    "## Et si on cache plusieurs mots ?"
   ]
  },
  {
   "cell_type": "code",
   "execution_count": 20,
   "metadata": {},
   "outputs": [
    {
     "name": "stdout",
     "output_type": "stream",
     "text": [
      "Exemple perturbation 1 (Plusieurs mots cachés) : net reception has been enthusiastic good\n"
     ]
    }
   ],
   "source": [
    "t0_p1= time()\n",
    "print(\"Exemple perturbation 1 (Plusieurs mots cachés) :\", gener_perturb_bert(\"[MASK] reception has been [MASK] good\",'The reception has been generally good',torch,device))\n",
    "t1_p1= time()\n",
    "\n",
    "temps1_plus = t1_p1 - t0_p1"
   ]
  },
  {
   "cell_type": "code",
   "execution_count": 21,
   "metadata": {},
   "outputs": [
    {
     "name": "stdout",
     "output_type": "stream",
     "text": [
      "Exemple perturbation 2 (Plusieurs mots cachés) : The general provide works generally good\n"
     ]
    }
   ],
   "source": [
    "t0_p2= time()\n",
    "print(\"Exemple perturbation 2 (Plusieurs mots cachés) :\",gener_perturb_bert(\"The [MASK] [MASK] [MASK] generally good\",'The reception has been generally good',torch,device))\n",
    "t1_p2= time()\n",
    "\n",
    "temps2_plus = t1_p2 - t0_p2"
   ]
  },
  {
   "cell_type": "code",
   "execution_count": 22,
   "metadata": {},
   "outputs": [
    {
     "name": "stdout",
     "output_type": "stream",
     "text": [
      "Exemple perturbation 3 (Plusieurs mots cachés) : The reception did been surprisingly good\n"
     ]
    }
   ],
   "source": [
    "t0_p3= time()\n",
    "print(\"Exemple perturbation 3 (Plusieurs mots cachés) :\",gener_perturb_bert(\"The reception [MASK] been [MASK] good\",'The reception has been generally good',torch,device))\n",
    "t1_p3= time()\n",
    "\n",
    "temps3_plus = t1_p3 - t0_p3"
   ]
  },
  {
   "cell_type": "markdown",
   "metadata": {},
   "source": [
    "### Temps écoulé pour générer une seule perturbation. (avec plusieurs MASK)"
   ]
  },
  {
   "cell_type": "code",
   "execution_count": 23,
   "metadata": {},
   "outputs": [
    {
     "name": "stdout",
     "output_type": "stream",
     "text": [
      "Le temps pour générer une seule perturbation est  10.080406665802002 seconde\n",
      "\n",
      "Le temps pour générer une seule perturbation est  10.264800071716309 seconde\n",
      "\n",
      "Le temps pour générer une seule perturbation est  10.115803480148315 seconde\n"
     ]
    }
   ],
   "source": [
    "print(\"Le temps pour générer une seule perturbation est \",temps1_plus , \"seconde\")\n",
    "print()\n",
    "print(\"Le temps pour générer une seule perturbation est \",temps2_plus , \"seconde\")\n",
    "print()\n",
    "print(\"Le temps pour générer une seule perturbation est \",temps3_plus , \"seconde\")"
   ]
  },
  {
   "cell_type": "markdown",
   "metadata": {},
   "source": [
    "#### Ici, on cache plusieurs mots. On perturbe donc fortement l'instance à chaque perturbation générée. Nous n'avons donc pas besoin de générer autant de perturbations que si on marque un seul mot : \n",
    "\n",
    "#### Prenons par exemple, une distribution composée de 250 perturbations."
   ]
  },
  {
   "cell_type": "code",
   "execution_count": 24,
   "metadata": {},
   "outputs": [],
   "source": [
    "temps1_bis_p = 250*temps1_plus\n",
    "temps2_bis_p= 250*temps2_plus\n",
    "temps3_bis_p= 250*temps3_plus\n",
    "\n",
    "convert1_p = strftime('%H %M %S', gmtime(temps1_bis_p))\n",
    "convert2_p= strftime('%H %M %S', gmtime(temps2_bis_p))\n",
    "convert3_p = strftime('%H %M %S', gmtime(temps3_bis_p))"
   ]
  },
  {
   "cell_type": "code",
   "execution_count": 25,
   "metadata": {},
   "outputs": [
    {
     "name": "stdout",
     "output_type": "stream",
     "text": [
      "Le temps écoulé pour générer une distribution de 250 perturbations est 00  h 42  min 00 s\n",
      "\n",
      "Le temps écoulé pour générer une distribution de 250 perturbations est 00  h 42  min 46 s\n",
      "\n",
      "Le temps écoulé pour générer une distribution de 250 perturbations est 00  h 42  min 08 s\n"
     ]
    }
   ],
   "source": [
    "print(\"Le temps écoulé pour générer une distribution de 250 perturbations est\" , convert1_p[0:3], \"h\", convert1_p[3:6], \"min\" , convert1_p[6:8],\"s\")\n",
    "print()\n",
    "print(\"Le temps écoulé pour générer une distribution de 250 perturbations est\" , convert2_p[0:3], \"h\", convert2_p[3:6], \"min\" , convert2_p[6:8],\"s\")\n",
    "print()\n",
    "print(\"Le temps écoulé pour générer une distribution de 250 perturbations est\" , convert3_p[0:3], \"h\", convert3_p[3:6], \"min\" , convert3_p[6:8],\"s\")"
   ]
  },
  {
   "cell_type": "code",
   "execution_count": 26,
   "metadata": {},
   "outputs": [],
   "source": [
    "convert1_bis_p = strftime('%H %M %S', gmtime(temps1_bis_p*10 ))\n",
    "\n",
    "convert2_bis_p = strftime('%H %M %S', gmtime(temps2_bis_p*10 ))\n",
    "\n",
    "convert3_bis_p = strftime('%H %M %S', gmtime(temps3_bis_p*10 ))"
   ]
  },
  {
   "cell_type": "code",
   "execution_count": 27,
   "metadata": {},
   "outputs": [
    {
     "name": "stdout",
     "output_type": "stream",
     "text": [
      "Le temps écoulé pour expliquer 10 phrases est  07  h 00  min 01 s\n",
      "\n",
      "Le temps écoulé pour expliquer 10 phrases est  07  h 07  min 42 s\n",
      "\n",
      "Le temps écoulé pour expliquer 10 phrases est  07  h 01  min 29 s\n"
     ]
    }
   ],
   "source": [
    "print(\"Le temps écoulé pour expliquer 10 phrases est \" , convert1_bis_p[0:3], \"h\", convert1_bis_p[3:6], \"min\" , convert1_bis_p[6:8],\"s\")\n",
    "print()\n",
    "print(\"Le temps écoulé pour expliquer 10 phrases est \" , convert2_bis_p[0:3], \"h\", convert2_bis_p[3:6], \"min\" , convert2_bis_p[6:8],\"s\")\n",
    "print()\n",
    "print(\"Le temps écoulé pour expliquer 10 phrases est \" , convert3_bis_p[0:3], \"h\", convert3_bis_p[3:6], \"min\" , convert3_bis_p[6:8],\"s\")"
   ]
  },
  {
   "cell_type": "markdown",
   "metadata": {},
   "source": [
    "## Et avec une perturbation déterministe ? "
   ]
  },
  {
   "cell_type": "markdown",
   "metadata": {},
   "source": [
    "### Le temps est pratiquement divisé par deux lorsqu'on cache plusieurs mots ! "
   ]
  },
  {
   "cell_type": "code",
   "execution_count": 28,
   "metadata": {},
   "outputs": [
    {
     "name": "stdout",
     "output_type": "stream",
     "text": [
      "['the', 'reception', 'has', 'been', 'generally', 'good']\n"
     ]
    }
   ],
   "source": [
    "text = \"The reception has been generally good\"\n",
    "\n",
    "phrase_decoup = word_tokenize(text.lower())\n",
    "print(phrase_decoup)\n"
   ]
  },
  {
   "cell_type": "markdown",
   "metadata": {},
   "source": [
    "### 1 seul perturbation "
   ]
  },
  {
   "cell_type": "code",
   "execution_count": 43,
   "metadata": {},
   "outputs": [
    {
     "name": "stdout",
     "output_type": "stream",
     "text": [
      "                                0\n",
      "0  the UNK has UNK generally good\n"
     ]
    }
   ],
   "source": [
    "temps_deter0 = time()\n",
    "pert1_only = generation_perturb_bis4(phrase_decoup,[\"good\"],0,\"UNK\")\n",
    "print(pert1_only)\n",
    "temps_deter1 = time()"
   ]
  },
  {
   "cell_type": "code",
   "execution_count": 44,
   "metadata": {},
   "outputs": [],
   "source": [
    "temps_deter = temps_deter1 - temps_deter0"
   ]
  },
  {
   "cell_type": "code",
   "execution_count": 45,
   "metadata": {},
   "outputs": [
    {
     "name": "stdout",
     "output_type": "stream",
     "text": [
      "Pour générer une seul perturbation en utilisant une méthode déterministe il faut 0.004996776580810547 seconde.\n"
     ]
    }
   ],
   "source": [
    "print(\"Pour générer une seul perturbation en utilisant une méthode déterministe il faut\" , temps_deter ,\"seconde.\")"
   ]
  },
  {
   "cell_type": "code",
   "execution_count": 46,
   "metadata": {},
   "outputs": [
    {
     "name": "stdout",
     "output_type": "stream",
     "text": [
      "                                         0\n",
      "0           UNK reception UNK UNK UNK good\n",
      "1           the UNK has UNK generally good\n",
      "2                the UNK has been UNK good\n",
      "3          UNK reception has been UNK good\n",
      "4     UNK reception has UNK generally good\n",
      "..                                     ...\n",
      "246        the reception has been UNK good\n",
      "247         the UNK has UNK generally good\n",
      "248  the reception UNK been generally good\n",
      "249               the UNK UNK UNK UNK good\n",
      "250               UNK UNK UNK UNK UNK good\n",
      "\n",
      "[251 rows x 1 columns]\n"
     ]
    }
   ],
   "source": [
    "temps_deter_b0 = time()\n",
    "pert1_multi = generation_perturb_bis4(phrase_decoup,[\"good\"],250,\"UNK\")\n",
    "print(pert1_multi)\n",
    "temps_deter_b1 = time()"
   ]
  },
  {
   "cell_type": "code",
   "execution_count": 47,
   "metadata": {},
   "outputs": [],
   "source": [
    "temps_deter2 = temps_deter_b1 - temps_deter_b0"
   ]
  },
  {
   "cell_type": "code",
   "execution_count": 48,
   "metadata": {},
   "outputs": [
    {
     "name": "stdout",
     "output_type": "stream",
     "text": [
      "Pour générer 250 perturbations en utilisant une méthode déterministe il faut 0.039994239807128906 seconde.\n"
     ]
    }
   ],
   "source": [
    "print(\"Pour générer 250 perturbations en utilisant une méthode déterministe il faut\" , temps_deter2 ,\"seconde.\")"
   ]
  }
 ],
 "metadata": {
  "kernelspec": {
   "display_name": "Python 3",
   "language": "python",
   "name": "python3"
  },
  "language_info": {
   "codemirror_mode": {
    "name": "ipython",
    "version": 3
   },
   "file_extension": ".py",
   "mimetype": "text/x-python",
   "name": "python",
   "nbconvert_exporter": "python",
   "pygments_lexer": "ipython3",
   "version": "3.8.3"
  }
 },
 "nbformat": 4,
 "nbformat_minor": 4
}
