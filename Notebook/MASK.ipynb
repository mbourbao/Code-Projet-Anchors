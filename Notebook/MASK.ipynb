{
 "cells": [
  {
   "cell_type": "code",
   "execution_count": 1,
   "metadata": {},
   "outputs": [],
   "source": [
    "## BERT \n",
    "from transformers import DistilBertModel, DistilBertConfig\n",
    "import ipywidgets\n",
    "import IProgress\n",
    "from transformers import DistilBertTokenizer, DistilBertForMaskedLM\n",
    "import torch\n",
    "\n",
    "\n",
    "import numpy as np \n",
    "import pandas as pd \n",
    "from sklearn.feature_extraction.text import CountVectorizer\n",
    "from sklearn.model_selection import train_test_split\n",
    "from sklearn.linear_model import LogisticRegression\n",
    "\n",
    "import os\n",
    "import string \n",
    "\n",
    "\n",
    "from nltk import word_tokenize\n",
    "\n",
    "os.chdir(\"C:/Users/33651/Documents/Projet_Anchors/CODE/\")\n",
    "from Perturb_Bert_Plusieurs_mots import *\n",
    "from Perturb_Bert_One_mots import * \n",
    "\n",
    "from time import *"
   ]
  },
  {
   "cell_type": "code",
   "execution_count": 2,
   "metadata": {},
   "outputs": [
    {
     "name": "stdout",
     "output_type": "stream",
     "text": [
      "Val accuracy 0.8\n"
     ]
    }
   ],
   "source": [
    "from chargement_donnée import * "
   ]
  },
  {
   "cell_type": "code",
   "execution_count": null,
   "metadata": {},
   "outputs": [],
   "source": []
  },
  {
   "cell_type": "code",
   "execution_count": 15,
   "metadata": {},
   "outputs": [],
   "source": [
    "t1 = time()\n",
    "only = generation_perturb_bert_one(\"The reception has been generally good\",['good'],10,MASK=\"[MASK]\")\n",
    "t2= time()"
   ]
  },
  {
   "cell_type": "code",
   "execution_count": 16,
   "metadata": {},
   "outputs": [
    {
     "name": "stdout",
     "output_type": "stream",
     "text": [
      "Le temps pour masqué une instance (un seul mot) est  0.0\n"
     ]
    }
   ],
   "source": [
    "print(\"Le temps pour masqué une instance (un seul mot) est \" , t2-t1)"
   ]
  },
  {
   "cell_type": "code",
   "execution_count": 17,
   "metadata": {},
   "outputs": [],
   "source": [
    "t1_b = time()\n",
    "multi = generation_perturb_bert(\"The reception has been generally good\",['good'],10,MASK=\"[MASK]\")\n",
    "t2_b = time()"
   ]
  },
  {
   "cell_type": "code",
   "execution_count": 18,
   "metadata": {},
   "outputs": [
    {
     "name": "stdout",
     "output_type": "stream",
     "text": [
      "Le temps pour masquer une instance (plusieurs mots est  0.0030171871185302734\n"
     ]
    }
   ],
   "source": [
    "print(\"Le temps pour masquer une instance (plusieurs mots est \", t2_b-t1_b)"
   ]
  },
  {
   "cell_type": "code",
   "execution_count": 19,
   "metadata": {},
   "outputs": [
    {
     "name": "stdout",
     "output_type": "stream",
     "text": [
      "                                           0\n",
      "0   [MASK] reception has been generally good\n",
      "1         The [MASK] has been generally good\n",
      "2         The reception has been [MASK] good\n",
      "3         The [MASK] has been generally good\n",
      "4    The reception has [MASK] generally good\n",
      "5    The reception has [MASK] generally good\n",
      "6         The reception has been [MASK] good\n",
      "7    The reception has [MASK] generally good\n",
      "8   [MASK] reception has been generally good\n",
      "9   [MASK] reception has been generally good\n",
      "10  [MASK] reception has been generally good\n"
     ]
    }
   ],
   "source": [
    "print(only)"
   ]
  },
  {
   "cell_type": "code",
   "execution_count": 20,
   "metadata": {},
   "outputs": [
    {
     "name": "stdout",
     "output_type": "stream",
     "text": [
      "                                                0\n",
      "0      [MASK] reception [MASK] [MASK] [MASK] good\n",
      "1      [MASK] [MASK] [MASK] [MASK] generally good\n",
      "2        [MASK] reception has been generally good\n",
      "3           The reception [MASK] been [MASK] good\n",
      "4           [MASK] [MASK] [MASK] been [MASK] good\n",
      "5              The [MASK] [MASK] been [MASK] good\n",
      "6               The [MASK] has [MASK] [MASK] good\n",
      "7         The reception has [MASK] generally good\n",
      "8           [MASK] reception has been [MASK] good\n",
      "9   [MASK] reception [MASK] [MASK] generally good\n",
      "10             The [MASK] has been generally good\n"
     ]
    }
   ],
   "source": [
    "print(multi)"
   ]
  },
  {
   "cell_type": "markdown",
   "metadata": {},
   "source": [
    "### Le temps pour masquer une phrase est identique au temps pour générer des perturbations déterministes (même principe). Ce qui est long c'est la recherche d'un mot pour remplacer ce mot caché."
   ]
  }
 ],
 "metadata": {
  "kernelspec": {
   "display_name": "Python 3",
   "language": "python",
   "name": "python3"
  },
  "language_info": {
   "codemirror_mode": {
    "name": "ipython",
    "version": 3
   },
   "file_extension": ".py",
   "mimetype": "text/x-python",
   "name": "python",
   "nbconvert_exporter": "python",
   "pygments_lexer": "ipython3",
   "version": "3.8.3"
  }
 },
 "nbformat": 4,
 "nbformat_minor": 4
}
