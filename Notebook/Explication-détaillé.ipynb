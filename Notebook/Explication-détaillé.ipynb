{
 "cells": [
  {
   "cell_type": "code",
   "execution_count": 1,
   "metadata": {},
   "outputs": [],
   "source": [
    "####################### BERT ##############################################\n",
    "from transformers import DistilBertModel, DistilBertConfig\n",
    "import ipywidgets\n",
    "import IProgress\n",
    "from transformers import DistilBertTokenizer, DistilBertForMaskedLM\n",
    "import torch\n",
    "###########################################################################\n",
    "\n",
    "import numpy as np \n",
    "import pandas as pd \n",
    "\n",
    "###########################SKLEARN ########################################\n",
    "from sklearn.feature_extraction.text import CountVectorizer\n",
    "from sklearn.model_selection import train_test_split\n",
    "from sklearn.linear_model import LogisticRegression\n",
    "###########################################################################\n",
    "import os\n",
    "import string \n",
    "import itertools\n",
    "import copy\n",
    "import matplotlib.pyplot as plt\n",
    "from nltk import word_tokenize\n",
    "####################### MES FONCTIONS #####################################\n",
    "import os\n",
    "os.chdir(\"C:/Users/33651/Documents/Projet_Anchors/CODE/\")\n",
    "from perturbation import * \n",
    "from couverture import * \n",
    "from selection_meilleur_ancre_DETERMINISTE import * \n",
    "from Perturb_Bert_One_mots import * \n",
    "from Perturb_Bert_Plusieurs_mots import *\n",
    "\n",
    "###############PACKAGE \n",
    "import sklearn\n",
    "import sklearn.model_selection\n",
    "import sklearn.linear_model\n",
    "import sklearn.ensemble\n",
    "import spacy\n",
    "import sys\n"
   ]
  },
  {
   "cell_type": "markdown",
   "metadata": {},
   "source": [
    "#### Chargement des données provenant de Kaggle (commentaires/avis) "
   ]
  },
  {
   "cell_type": "code",
   "execution_count": 2,
   "metadata": {},
   "outputs": [
    {
     "name": "stdout",
     "output_type": "stream",
     "text": [
      "Val accuracy 0.8\n"
     ]
    }
   ],
   "source": [
    "from chargement_donnée import*"
   ]
  },
  {
   "cell_type": "code",
   "execution_count": 3,
   "metadata": {},
   "outputs": [],
   "source": [
    "def predict_lr(texts):\n",
    "    return c.predict(vectorizer.transform(texts))"
   ]
  },
  {
   "cell_type": "markdown",
   "metadata": {},
   "source": [
    "Dans l'article, nous avons vu que la méthode Anchors utilise des perturbations pour trouver le point d'ancrage et utilise deux métriques : la précision pour évaluer la puissance du point d'ancrage à stabiliser la décision, la couverture pour évaluer la région d'application (sur combien d'instance, les règles vont s'appliquer) de cette ancre.\n",
    "L'objectif de Anchors est de maximiser ces deux quantités (deux problèmes d'optimisation). Dans le mémoire, nous avons pu voir que ces deux métriques sont contraires. Regardons sur un exemple :\n",
    "\n"
   ]
  },
  {
   "cell_type": "code",
   "execution_count": 4,
   "metadata": {},
   "outputs": [
    {
     "name": "stdout",
     "output_type": "stream",
     "text": [
      "La phrase qu'on va expliquer en détail est This is good computer\n",
      "\n",
      "La phrase reflète un sentiment positif.\n"
     ]
    }
   ],
   "source": [
    "\n",
    "## Phrase qu'on va expliquer en détail (on prend une petite phrase pour éviter qu'il y est trop de combinaison.)\n",
    "phrase = \"This is good computer\"\n",
    "\n",
    "print(\"La phrase qu'on va expliquer en détail est\", phrase)\n",
    "print()\n",
    "## Décision prise par la classifieur pour la phrase\n",
    "label = predict_lr([phrase])[0]\n",
    "\n",
    "if label == 1 : \n",
    "    print(\"La phrase reflète un sentiment positif.\")\n",
    "else : \n",
    "    print(\"La phrase reflète un sentiment négatif.\")\n",
    "\n",
    "nlp = spacy.load('en_core_web_sm')\n",
    "\n",
    "explainer = anchor_text.AnchorText(nlp, ['negative', 'positive'], use_unk_distribution=True)\n",
    "\n",
    "#Vectorisation des données\n",
    "np.random.seed(1)\n",
    "vectorizer = CountVectorizer()\n",
    "X = vectorizer.fit_transform([phrase])\n",
    "\n",
    "#Découpage des phrases en mot (chaque fois est susceptible d'appartenir à l'ancre)\n",
    "ph_expli_tok= vectorizer.get_feature_names()\n",
    "les_candidats = ph_expli_tok\n",
    "\n",
    "#print(\"les candidats sont : \",les_candidats)\n",
    "\n",
    "\n",
    "\n",
    "meilleur_prec = 0 #Pour sauvegarder la meilleure précision \n",
    "prec_temp = 0 #Précision temporaire => Variable qui va contenir la précision pour chaque combinaison et sera comparer à la meilleur\n",
    "#Rmq : Si prec_temp est plus grand que meilleur_prec alors meilleur_prec va prendre la valeur de prec_temp ect...\n",
    "\n",
    "best_ancre = [] #Pour sauvegarder le nom de l'ancre ayant la meilleur précision \n",
    "#On va appliquer les deux méthodes de perturbation (déterministe et générative) : \n",
    "#A la fin on va tracer un plot avec toutes les précisions => Liste de même taille que le nombre total de combinaison\n",
    "precision_tous_deter = [] #Toutes les précisions (méthode déterministe)\n",
    "precision_tous_bert = [] #Toutes les précisions (méthode générative = BERT)\n",
    "candidat_tous = [] #Toutes les combinaisons possibles (pour tracer le plot à la fin (abscisse : candidat- ordonnée : précision)\n",
    "\n",
    "vrai_cov = [] # On affichera aussi la couverture associée à chaque combinaison \n",
    "vrai = 0 #Variable qui contiendra le calcul de la couverture \n",
    "\n",
    "#Pour BERT\n",
    "torch = torch\n",
    "device = torch.device(\"cuda\" if torch.cuda.is_available() else \"cpu\")\n",
    "\n",
    "for i in range(1,len(les_candidats)): #Gère la taille des combinaisons \n",
    "    \n",
    "    comb_temp = [] #Combinaison qu'on étudie\n",
    "    \n",
    "    #print(i)    \n",
    "    for c in itertools.combinations(les_candidats,i): #Itertools permet de générer toutes les combinaisons possibles de la liste les_candidats de taille i\n",
    "        #La boucle parcourt les combinaisons possibles de taille i\n",
    "        x= list(c) #Combinaison c de taille i (transformation en liste pour la manipulation)\n",
    "        comb_temp.append(x) \n",
    "             \n",
    "    for p in range(len(comb_temp)) : \n",
    "            #Si c'est le tout premier il faut initialiser les valeurs :\n",
    "            #La meilleur précision est initialiser par la valeur de la toute première combinaison.\n",
    "            #Dès qu'on trouve une meilleur précision, celle ci sera remplacée.\n",
    "            \n",
    "            if p == 0 and len(best_ancre) == 0 : #tout premier\n",
    "                perturb = generation_perturb_bis4(ph_expli_tok,comb_temp[p],100,\"UNK\") #Génération de perturbation déterministe\n",
    "                perturb_bert = generation_perturb_bert( \"This is good computer\",comb_temp[p], 100) #génération de perturbation générative\n",
    "                \n",
    "                #transformation pour la manipulation\n",
    "                exp2 = np.array(perturb)\n",
    "                exp2_bert = np.array(perturb_bert)\n",
    "                exp3 = list(exp2)\n",
    "                l =[]\n",
    "                for j in range(len(exp2)):\n",
    "                     l.append(exp3[j][0])\n",
    "                        \n",
    "                #Application de la boite noire sur les perturbations (ici déterministe)        \n",
    "                resultat_deter = classif2(df,0.2,l)\n",
    "               # print(resultat)\n",
    "                #Calcule de la précision \n",
    "                prec_temp_deter = len(resultat_deter[resultat_deter==label])/len(resultat_deter)\n",
    "                \n",
    "                ###############BERT###############\n",
    "                #transformation pour la manipulation\n",
    "                mes_phr_perturb = []\n",
    "                for pm in range(len(exp2_bert)):\n",
    "                \n",
    "                    phra_pe = gener_perturb_bert(exp2_bert[pm][0],\"This is good computer\",torch)\n",
    "                \n",
    "                    mes_phr_perturb.append(phra_pe)\n",
    "                #print(\"les phrases perturbées\",mes_phr_perturb)\n",
    "                #Application de la boite noire sur les perturbations (ici générative)   \n",
    "                resultat_bert = classif2(df,0.2,mes_phr_perturb)\n",
    "               # Calcul de la précison \n",
    "                prec_temp_bert = len(resultat_bert[resultat_bert==label])/len(resultat_bert)\n",
    "                #INITIALISATION DE LA MEILLEUR PRECISION\n",
    "                meilleur_prec_deter = prec_temp_deter\n",
    "                meilleur_prec_bert = prec_temp_bert\n",
    "                \n",
    "                \n",
    "                #INITIALISATION DU NOM DE LA MEILLEUR ANCRE\n",
    "                best_ancre_deter = comb_temp[p]\n",
    "                best_ancre_bert = comb_temp[p]\n",
    "                \n",
    "                #AJOUT DES PRECISIONS DANS LA LISTE TOTAL DE TOUTES LES PRECISIONS QUI VA SERVIR AU PLOT (ordonnée)\n",
    "                precision_tous_deter.append(meilleur_prec_deter)\n",
    "                precision_tous_bert.append(meilleur_prec_bert)\n",
    "                \n",
    "                #CACUL DE LA COUVERTURE ASSOCIE A LA COMBINAISON\n",
    "                vrai = cov_bis(comb_temp[p],sentences)\n",
    "                vrai_cov.append(vrai)\n",
    "                \n",
    "                #AJOUT DE LA COMBINAISON A LA LISTE TOTAL DE TOUTES LES COMBINAISONS QUI VA SERVIR AU PLOT (abscisse)\n",
    "                candidat_tous.append(comb_temp[p])\n",
    "                #print(meilleur_prec)\n",
    "            \n",
    "            else: #TOUTE LES ETAPES SONT IDENTIQUE AU PREMIER IF (C'était juste l'initialisation)\n",
    "                  #IL Y A JUSTE EN PLUS L'ETAPE DE COMPARAISON \n",
    "             \n",
    "                candidat_tous.append(comb_temp[p])\n",
    "                perturb = generation_perturb_bis4(ph_expli_tok,comb_temp[p],100,\"UNK\")\n",
    "                perturb_bert = generation_perturb_bert( \"This is good computer\",comb_temp[p], 100)\n",
    "                exp2 = np.array(perturb)\n",
    "                exp2_bert = np.array(perturb_bert)\n",
    "                \n",
    "                ##################DETERMINISTE \n",
    "                exp3 = list(exp2)\n",
    "                l =[]\n",
    "                for j in range(len(exp2)):\n",
    "                    l.append(exp3[j][0])\n",
    "                resultat_deter = classif2(df,0.2,l)\n",
    "               # print(resultat)\n",
    "                prec_temp_deter = len(resultat_deter[resultat_deter==label])/len(resultat_deter)\n",
    "                \n",
    "                ############################BERT \n",
    "                mes_phr_perturb = []\n",
    "                for pm in range(len(exp2_bert)):\n",
    "                \n",
    "                    phra_pe = gener_perturb_bert(exp2_bert[pm][0],\"This is good computer\",torch)\n",
    "                \n",
    "                    mes_phr_perturb.append(phra_pe)\n",
    "                #print(\"les phrases perturbées\",mes_phr_perturb)\n",
    "                resultat_bert = classif2(df,0.2,mes_phr_perturb)\n",
    "               # print(resultat)\n",
    "                prec_temp_bert = len(resultat_bert[resultat_bert==label])/len(resultat_bert)\n",
    "                \n",
    "                #################################################################\n",
    "                \n",
    "                precision_tous_deter.append(prec_temp_deter)\n",
    "                precision_tous_bert.append(prec_temp_bert)\n",
    "                \n",
    "                vrai = cov_bis(comb_temp[p],sentences)\n",
    "                vrai_cov.append(vrai)\n",
    "               \n",
    "                # COMPARAISON - ETAPE EN PLUS \n",
    "                # Si on trouve une précision égale à la meilleure : \n",
    "                ## -> On compare la taille de la combinaison -> On remplace la valeur de l'ancre seulement si \n",
    "                ## la taille de l'ancre est inferieur ou égale (si elle est plus grande on garde la plus petite car meilleur couverture)\n",
    "                ## On vérifie aussi que le seuil de précision demander est satisfait (> tau )\n",
    "                if prec_temp_deter == meilleur_prec_deter and prec_temp_deter > 0.15 and len(comb_temp[p]) <= len(best_ancre_deter)  :\n",
    "                    meilleur_prec_deter = prec_temp_deter\n",
    "                    best_ancre = comb_temp[p]\n",
    "                ## Si on trouve une précision strictement supérieur on change   \n",
    "                elif prec_temp_deter > meilleur_prec_deter : \n",
    "                         meilleur_prec_deter = prec_temp_deter\n",
    "                         best_ancre_deter = comb_temp[p]\n",
    "                # PAREIL MAIS AVEC BERT\n",
    "                if prec_temp_bert == meilleur_prec_bert and prec_temp_bert > 0.15 and len(comb_temp[p]) <= len(best_ancre_bert)  :\n",
    "                    meilleur_prec_bert = prec_temp_bert\n",
    "                    best_ancre_bert = comb_temp[p]\n",
    "                    \n",
    "                elif prec_temp_bert > meilleur_prec_bert : \n",
    "                         meilleur_prec_bert = prec_temp_bert\n",
    "                         best_ancre_bert = comb_temp[p]\n",
    "                        \n",
    "                    \n",
    "\n"
   ]
  },
  {
   "cell_type": "markdown",
   "metadata": {},
   "source": [
    "On charge à nouveau les données car elles ont subit des modifications (type...) durant l'étape précedente."
   ]
  },
  {
   "cell_type": "code",
   "execution_count": 5,
   "metadata": {},
   "outputs": [],
   "source": [
    "from chargement_donnée import*"
   ]
  },
  {
   "cell_type": "code",
   "execution_count": 6,
   "metadata": {},
   "outputs": [],
   "source": [
    "def predict_lr(texts):\n",
    "    return c.predict(vectorizer.transform(texts))"
   ]
  },
  {
   "cell_type": "code",
   "execution_count": null,
   "metadata": {},
   "outputs": [],
   "source": []
  },
  {
   "cell_type": "code",
   "execution_count": 7,
   "metadata": {},
   "outputs": [],
   "source": [
    "text = \"This is good computer\"\n",
    "explainer = anchor_text.AnchorText(nlp, ['negative', 'positive'], use_unk_distribution=True) #UNK\n",
    "\n",
    "explainer2 = anchor_text.AnchorText(nlp, ['negative', 'positive'], use_unk_distribution=False ) #BERT\n",
    "np.random.seed(1)\n",
    "\n",
    "exp_UNK = explainer.explain_instance(text, predict_lr, threshold=0.95, verbose=False)\n",
    "exp_BERT = explainer2.explain_instance(text, predict_lr, threshold=0.95, verbose=False)\n",
    "\n",
    "prec_package_UNK = exp_UNK.precision()\n",
    "ancre_package_UNK = exp_UNK.names()\n",
    "index_ancre_UNK = candidat_tous.index(ancre_package_UNK )\n",
    "\n",
    "list_package_UNK = [0]* len(candidat_tous)\n",
    "list_package_UNK[index_ancre_UNK] = prec_package_UNK\n",
    "\n",
    "\n",
    "prec_package_BERT = exp_BERT.precision() #0.9803921568627451 (aléatoire - on obtient des fois 1.0)\n",
    "ancre_package_BERT = exp_BERT.names()\n",
    "index_ancre_BERT = candidat_tous.index(ancre_package_BERT)\n",
    "\n",
    "list_package_BERT = [0]* len(candidat_tous)\n",
    "list_package_BERT[index_ancre_BERT] = prec_package_BERT\n",
    "\n",
    "\n",
    "\n",
    "\n",
    "\n",
    "\n",
    "cov_nor = []\n",
    "\n",
    "for i in vrai_cov : \n",
    "    cov_nor.append(i/100)\n",
    "\n",
    "largeur_barre = 0.2\n"
   ]
  },
  {
   "cell_type": "code",
   "execution_count": 8,
   "metadata": {},
   "outputs": [],
   "source": [
    "from IPython.display import Image\n"
   ]
  },
  {
   "cell_type": "code",
   "execution_count": 11,
   "metadata": {},
   "outputs": [
    {
     "data": {
      "image/png": "[encoded data removed]",
      "text/plain": [
       "<IPython.core.display.Image object>"
      ]
     },
     "execution_count": 11,
     "metadata": {},
     "output_type": "execute_result"
    },
    {
     "data": {
      "image/png": "[encoded data removed]",
      "text/plain": [
       "<Figure size 720x576 with 1 Axes>"
      ]
     },
     "metadata": {
      "needs_background": "light"
     },
     "output_type": "display_data"
    }
   ],
   "source": [
    "import matplotlib.patches as mpatches\n",
    "list_aph = list(map(chr, range(97, 123))) \n",
    "\n",
    "list_aff = precision_tous_bert\n",
    "list_aff2 = precision_tous_deter\n",
    "x_moi_BERT = np.arange(len(candidat_tous))\n",
    "x_pack_BERT = [i - largeur_barre for i in x_moi_BERT]\n",
    "x_moi_UNK = [i + largeur_barre for i in x_moi_BERT]\n",
    "x_pack_UNK = [i + 2*largeur_barre for i in x_moi_BERT]\n",
    "\n",
    "x_cov = [i + 3*largeur_barre for i in x_moi_BERT] # Position des barres de la cat 2\n",
    "\n",
    "\n",
    "plt.figure(figsize=(10,8))\n",
    "plt.bar(x_pack_UNK, height=list_package_UNK,color=\"red\",width = largeur_barre)\n",
    "plt.bar(x_pack_BERT, height=list_package_BERT,color=\"red\",width = largeur_barre)\n",
    "plt.bar(x_moi_BERT, height=list_aff,color=\"green\",width = largeur_barre)\n",
    "plt.bar(x_moi_UNK, height=list_aff2,color=\"orange\",width = largeur_barre)\n",
    "plt.bar(x_cov, height=cov_nor,color=\"pink\",width = largeur_barre)\n",
    "plt.xticks(x_moi_BERT,list_aph[0:len(candidat_tous)])\n",
    "\n",
    "colors = {'Résultat avec package':'red', 'Mon implémentation : déterministe':'orange' , 'Mon implémentation : générative':'green' , 'Couverture': 'pink'}         \n",
    "labels = list(colors.keys())\n",
    "handles = [plt.Rectangle((0,0),0,0, color=colors[label]) for label in labels]\n",
    "\n",
    "\n",
    "plt.legend(handles, labels,bbox_to_anchor=(1.05, 1.0), loc='upper left' )\n",
    "\n",
    "plt.title('Visualisation des différentes métriques pour une instance.')\n",
    "\n",
    "\n",
    "\n",
    "Image(\"legend.png\")"
   ]
  },
  {
   "cell_type": "code",
   "execution_count": 12,
   "metadata": {},
   "outputs": [
    {
     "name": "stderr",
     "output_type": "stream",
     "text": [
      "No handles with labels found to put in legend.\n"
     ]
    },
    {
     "data": {
      "text/plain": [
       "<matplotlib.legend.Legend at 0x1c2c389fa90>"
      ]
     },
     "execution_count": 12,
     "metadata": {},
     "output_type": "execute_result"
    },
    {
     "data": {
      "image/png": "[encoded data removed]",
      "text/plain": [
       "<Figure size 864x504 with 1 Axes>"
      ]
     },
     "metadata": {
      "needs_background": "light"
     },
     "output_type": "display_data"
    }
   ],
   "source": [
    "from sklearn.pipeline import FeatureUnion, Pipeline\n",
    "\n",
    "model = Pipeline(\n",
    "    [\n",
    "        (\"vectorizer\",  vectorizer),\n",
    "        (\"transformer\", TfidfTransformer()),\n",
    "        (\"classifier\", c),\n",
    "    ]\n",
    ")\n",
    "\n",
    "coefs = model.named_steps[\"classifier\"].coef_.flatten()\n",
    "feature_names = model.named_steps[\"vectorizer\"].get_feature_names()\n",
    "zipped = zip(feature_names, coefs)\n",
    "df = pd.DataFrame(zipped, columns=[\"feature\", \"value\"])\n",
    "# Sort the features by the absolute value of their coefficient\n",
    "df[\"abs_value\"] = df[\"value\"].apply(lambda x: abs(x))\n",
    "df[\"colors\"] = df[\"value\"].apply(lambda x: \"green\" if x > 0 else \"red\")\n",
    "df = df.sort_values(\"abs_value\", ascending=False)\n",
    "\n",
    "coefs = model.named_steps[\"classifier\"].coef_.flatten()\n",
    "feature_names = model.named_steps[\"vectorizer\"].get_feature_names()\n",
    "zipped = zip(feature_names, coefs)\n",
    "\n",
    "\n",
    "import seaborn as sns\n",
    "fig, ax = plt.subplots(1, 1, figsize=(12, 7))\n",
    "sns.barplot(x=\"feature\",\n",
    "            y=\"value\",\n",
    "            data=df.head(20),\n",
    "           palette=df.head(20)[\"colors\"])\n",
    "\n",
    "ax.set_xticklabels(ax.get_xticklabels(), rotation=90, fontsize=20)\n",
    "ax.set_title(\"Les 20 mots les plus influents \", fontsize=25)\n",
    "ax.set_ylabel(\"Coefficient\", fontsize=22)\n",
    "ax.set_xlabel(\"Mot\", fontsize=22)\n",
    "ax.legend()"
   ]
  },
  {
   "cell_type": "code",
   "execution_count": null,
   "metadata": {},
   "outputs": [],
   "source": []
  }
 ],
 "metadata": {
  "kernelspec": {
   "display_name": "Python 3",
   "language": "python",
   "name": "python3"
  },
  "language_info": {
   "codemirror_mode": {
    "name": "ipython",
    "version": 3
   },
   "file_extension": ".py",
   "mimetype": "text/x-python",
   "name": "python",
   "nbconvert_exporter": "python",
   "pygments_lexer": "ipython3",
   "version": "3.8.3"
  }
 },
 "nbformat": 4,
 "nbformat_minor": 4
}
