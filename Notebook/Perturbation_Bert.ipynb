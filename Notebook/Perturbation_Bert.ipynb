{
 "cells": [
  {
   "cell_type": "code",
   "execution_count": 1,
   "metadata": {},
   "outputs": [],
   "source": [
    "## BERT \n",
    "from transformers import DistilBertModel, DistilBertConfig\n",
    "import ipywidgets\n",
    "import IProgress\n",
    "from transformers import DistilBertTokenizer, DistilBertForMaskedLM\n",
    "import torch\n",
    "\n",
    "\n",
    "import numpy as np \n",
    "import pandas as pd \n",
    "from sklearn.feature_extraction.text import CountVectorizer\n",
    "from sklearn.model_selection import train_test_split\n",
    "from sklearn.linear_model import LogisticRegression\n",
    "\n",
    "import os\n",
    "import string \n",
    "\n",
    "\n",
    "from nltk import word_tokenize\n",
    "\n",
    "os.chdir(\"C:/Users/33651/Documents/Projet_Anchors/CODE/\")\n",
    "from Perturb_Bert_Plusieurs_mots import *\n",
    "from Perturb_Bert_One_mots import * "
   ]
  },
  {
   "cell_type": "markdown",
   "metadata": {},
   "source": [
    "#### Chargement des données."
   ]
  },
  {
   "cell_type": "code",
   "execution_count": 2,
   "metadata": {},
   "outputs": [
    {
     "name": "stdout",
     "output_type": "stream",
     "text": [
      "Val accuracy 0.8\n"
     ]
    }
   ],
   "source": [
    "from chargement_donnée import * "
   ]
  },
  {
   "cell_type": "markdown",
   "metadata": {},
   "source": [
    "Nous allons regarder des exemples de perturbations par méthode générative en utilisant `BERT`. \n",
    "Dans ce cas, il y a deux choix possible : perturber légèrement la phrase (un seul mot modifier) afin d'obtenir des perturbations très réaliste (temps très long) , ou perturber plusieurs mots de la phrase et prendre le risque d'obtenir des phrases moins cohérentes (mais toujours plus cohérente qu'avec une perturbation déterministe). \n",
    "Visualisons les deux cas : "
   ]
  },
  {
   "cell_type": "markdown",
   "metadata": {},
   "source": [
    "Regardons dans un premier temps, les résultats obtenues en perturbant un seul mot."
   ]
  },
  {
   "cell_type": "code",
   "execution_count": 3,
   "metadata": {},
   "outputs": [
    {
     "name": "stdout",
     "output_type": "stream",
     "text": [
      "Exemple perturbation 1 (un seul mot caché) : the reverse has been generally good\n",
      "\n",
      "Exemple perturbation 2 (un seul mot caché) : the reception has been usually good\n",
      "\n",
      "Exemple perturbation 3 (un seul mot caché) : the reception song been generally good\n",
      "\n",
      "Exemple perturbation 4 (un seul mot caché) : the reception has been drawn good\n"
     ]
    }
   ],
   "source": [
    "print(\"Exemple perturbation 1 (un seul mot caché) :\",gener_perturb_bert_one(\"the [MASK] has been generally good\",'The reception has been generally good',torch))\n",
    "print()\n",
    "print(\"Exemple perturbation 2 (un seul mot caché) :\", gener_perturb_bert_one(\"the reception has been [MASK] good\",'The reception has been generally good',torch))\n",
    "print()\n",
    "print(\"Exemple perturbation 3 (un seul mot caché) :\",gener_perturb_bert_one(\"the reception [MASK] been generally good\",'The reception has been generally good',torch))\n",
    "print()\n",
    "print(\"Exemple perturbation 4 (un seul mot caché) :\",gener_perturb_bert_one(\"the reception has been [MASK] good\",'The reception has been generally good',torch))\n"
   ]
  },
  {
   "cell_type": "markdown",
   "metadata": {},
   "source": [
    "En perturbant plusieurs mots : "
   ]
  },
  {
   "cell_type": "code",
   "execution_count": 4,
   "metadata": {},
   "outputs": [
    {
     "name": "stdout",
     "output_type": "stream",
     "text": [
      "Exemple perturbation 1 (Plusieurs mots cachés) : Although reception has been substantially good\n",
      "\n",
      "Exemple perturbation 2 (Plusieurs mots cachés) : The metal recommend samples generally good\n",
      "\n",
      "Exemple perturbation 3 (Plusieurs mots cachés) : The reception ##ve been usually good\n",
      "\n",
      "Exemple perturbation 4 (Plusieurs mots cachés) : college reception reflects scored well good\n"
     ]
    }
   ],
   "source": [
    "\n",
    "print(\"Exemple perturbation 1 (Plusieurs mots cachés) :\", gener_perturb_bert(\"[MASK] reception has been [MASK] good\",'The reception has been generally good',torch,device))\n",
    "print()\n",
    "print(\"Exemple perturbation 2 (Plusieurs mots cachés) :\",gener_perturb_bert(\"The [MASK] [MASK] [MASK] generally good\",'The reception has been generally good',torch,device))\n",
    "print()\n",
    "print(\"Exemple perturbation 3 (Plusieurs mots cachés) :\",gener_perturb_bert(\"The reception [MASK] been [MASK] good\",'The reception has been generally good',torch,device))\n",
    "print()\n",
    "print(\"Exemple perturbation 4 (Plusieurs mots cachés) :\",gener_perturb_bert(\"[MASK] reception [MASK] [MASK] [MASK] good\",'The reception has been generally good',torch,device))"
   ]
  },
  {
   "cell_type": "code",
   "execution_count": 5,
   "metadata": {},
   "outputs": [
    {
     "name": "stdout",
     "output_type": "stream",
     "text": [
      "Exemple perturbation 1 (Plusieurs mots cachés) : chess is good computer\n",
      "\n",
      "Exemple perturbation 2 (Plusieurs mots cachés) : this desktop gaming computer\n",
      "\n",
      "Exemple perturbation 3 (Plusieurs mots cachés) : this is good movie\n",
      "\n"
     ]
    }
   ],
   "source": [
    "print(\"Exemple perturbation 1 (Plusieurs mots cachés) :\", gener_perturb_bert(\"[MASK] is good computer\",'this is good computer',torch,device))\n",
    "print()\n",
    "print(\"Exemple perturbation 2 (Plusieurs mots cachés) :\",gener_perturb_bert(\"this [MASK] [MASK] computer\",'this is good computer',torch,device))\n",
    "print()\n",
    "print(\"Exemple perturbation 3 (Plusieurs mots cachés) :\",gener_perturb_bert(\"this is good [MASK]\",'this is good computer',torch,device))\n",
    "print() \n",
    "    \n",
    "    \n",
    "    "
   ]
  },
  {
   "cell_type": "markdown",
   "metadata": {},
   "source": [
    "J'ai réalisé l'expérience sur de nombreuses phrases, et en effet nous obtenons des phrases beaucoup plus réaliste en perturbant un seul mot. \n",
    "Mais avec cette méthode il est difficile de trouver quel mot de la phrase stabilise la décision, c'est pourquoi il est donc nécessaire de générer un grand nombre de perturbation, ce qui a un coût important sur le temps d'exécution."
   ]
  },
  {
   "cell_type": "markdown",
   "metadata": {},
   "source": [
    "### Exemple avec le package"
   ]
  },
  {
   "cell_type": "code",
   "execution_count": 11,
   "metadata": {},
   "outputs": [
    {
     "name": "stdout",
     "output_type": "stream",
     "text": [
      "Prediction: positive\n",
      "Time: 97.77566695213318\n"
     ]
    }
   ],
   "source": [
    "def predict_lr(texts):\n",
    "    return c.predict(vectorizer.transform(texts))\n",
    "\n",
    "nlp = spacy.load('en_core_web_sm')\n",
    "explainer = anchor_text.AnchorText(nlp, ['negative', 'positive'], use_unk_distribution=False)\n",
    "\n",
    "np.random.seed(1)\n",
    "text = 'The reception has been generally good'\n",
    "pred = explainer.class_names[predict_lr([text])[0]]\n",
    "alternative =  explainer.class_names[1 - predict_lr([text])[0]]\n",
    "print('Prediction: %s' % pred)\n",
    "b = time.time()\n",
    "exp = explainer.explain_instance(text, predict_lr, threshold=0.95, verbose=False)\n",
    "exp2 = explainer.explain_instance(text, predict_lr, threshold=0.95, verbose=False, onepass=True)\n",
    "print('Time: %s' % (time.time() - b))"
   ]
  },
  {
   "cell_type": "code",
   "execution_count": 10,
   "metadata": {},
   "outputs": [
    {
     "name": "stdout",
     "output_type": "stream",
     "text": [
      "international attendance has been generally good\n",
      "since 2004 has shown itself good\n",
      "Each item has qualities for good\n",
      "● C ~ = exceptionally good\n",
      "h ##hs has proven generally good\n",
      "critical reception has been particularly good\n",
      "vegetable garden has become very good\n",
      "2013 se ##bas ##can be good\n",
      "• : con ##ju ##jer good\n",
      "• rural fare : generally good\n"
     ]
    }
   ],
   "source": [
    "print('\\n'.join([x[0] for x in exp.examples(partial_index=0, only_same_prediction=True)]))"
   ]
  },
  {
   "cell_type": "code",
   "execution_count": 12,
   "metadata": {},
   "outputs": [
    {
     "name": "stdout",
     "output_type": "stream",
     "text": [
      "musical reception has been very good\n",
      "thy had has been promised good\n",
      "That others still been proven good\n",
      "your have has been more good\n",
      "dog collection has shown generally good\n",
      "er series has proved achieved good\n",
      "this reception graded provide : good\n",
      "cu heaven has just reasonably good\n",
      "• ##ق ##10 meaning nothing good\n",
      "“ ##ness has been judged good\n"
     ]
    }
   ],
   "source": [
    "print('\\n'.join([x[0] for x in exp2.examples(partial_index=0, only_same_prediction=True)]))"
   ]
  },
  {
   "cell_type": "code",
   "execution_count": null,
   "metadata": {},
   "outputs": [],
   "source": []
  }
 ],
 "metadata": {
  "kernelspec": {
   "display_name": "Python 3",
   "language": "python",
   "name": "python3"
  },
  "language_info": {
   "codemirror_mode": {
    "name": "ipython",
    "version": 3
   },
   "file_extension": ".py",
   "mimetype": "text/x-python",
   "name": "python",
   "nbconvert_exporter": "python",
   "pygments_lexer": "ipython3",
   "version": "3.8.3"
  }
 },
 "nbformat": 4,
 "nbformat_minor": 4
}
